{
 "cells": [
  {
   "cell_type": "code",
   "execution_count": 1,
   "metadata": {},
   "outputs": [],
   "source": [
    "#!pip install -U nltk"
   ]
  },
  {
   "cell_type": "code",
   "execution_count": 2,
   "metadata": {},
   "outputs": [],
   "source": [
    "#!pip install -U textblob\n",
    "#!python -m textblob.download_corpora"
   ]
  },
  {
   "cell_type": "code",
   "execution_count": 3,
   "metadata": {},
   "outputs": [],
   "source": [
    "from textblob import TextBlob"
   ]
  },
  {
   "cell_type": "code",
   "execution_count": 4,
   "metadata": {},
   "outputs": [],
   "source": [
    "texto = TextBlob(\"Just A Rather Very Intelligent System a.k.a JARVIS is created by Tony Stark natural-language and a sophisticated artificial intelligence user interface computer system, named after Edwin Jarvis, the butler who worked for Howard Stark. Though its primary duty is to automate Stark’s Malibu estate, the lifelike program fulfills many other needs for Stark, like being an information source for him, a diagnostic tool, a consultant and a voice of reason in Stark’s life. It was also responsible to provide security for Tony Stark's Mansion and Stark Tower. After creating the Mark II armor, Stark uploaded JARVIS into all of the Iron Man Armors, as well as allowing him to interact with the other Avengers, giving them valuable information during combat. JARVIS may be the one intellect Stark feels most comfortable opening up to. JARVIS can object to Stark’s commands if necessary. JARVIS speaks with a refined British accent, and is capable of back talk, sarcasm and condescension. During the Ultron Offensive, JARVIS was destroyed by Ultron, although his remaining programming codes unknowingly continued to thwart Ultron's plans of gaining access to nuclear missiles. His remains were found by Stark, who uploaded them into a synthetic body made of vibranium and, in conjunction with Ultron's personality and an Infinity Stone. 'JARVIS' duties were then taken over by FRIDAY.\")"
   ]
  },
  {
   "cell_type": "code",
   "execution_count": 5,
   "metadata": {},
   "outputs": [
    {
     "data": {
      "text/plain": [
       "textblob.blob.TextBlob"
      ]
     },
     "execution_count": 5,
     "metadata": {},
     "output_type": "execute_result"
    }
   ],
   "source": [
    "type(texto)"
   ]
  },
  {
   "cell_type": "code",
   "execution_count": 7,
   "metadata": {},
   "outputs": [],
   "source": [
    "texto_blob = texto\n",
    "sposs = {}"
   ]
  },
  {
   "cell_type": "code",
   "execution_count": 8,
   "metadata": {},
   "outputs": [],
   "source": [
    "# Separation of the text sentences\n",
    "\n",
    "for sentence in texto_blob.sentences:\n",
    "    poss = {}\n",
    "    sposs[sentence.string] = poss;\n",
    "    #print('sposs',sposs)\n",
    "    \n",
    "    # Categorization of the words of every sentence\n",
    "    \n",
    "    for t in sentence.tags:\n",
    "        tag = t[1]\n",
    "        if tag not in poss:\n",
    "            poss[tag] = []\n",
    "        poss[tag].append(t[0])\n",
    "        #print('poss',poss)"
   ]
  },
  {
   "cell_type": "code",
   "execution_count": 9,
   "metadata": {},
   "outputs": [],
   "source": [
    "import random\n",
    "import re\n",
    "\n",
    "# replace the word with a blank space\n",
    "def replaceIC(word, sentence):\n",
    "    #print(re.escape(word))\n",
    "    insensitive_hippo = re.compile(word, re.IGNORECASE)\n",
    "    return insensitive_hippo.sub('__________________', sentence)\n",
    "\n",
    "# remove the world depending of the kind\n",
    "def removeWord(sentence, poss):\n",
    "    words = None\n",
    "    if 'NNP' in poss:\n",
    "        words = poss['NNP']\n",
    "    elif 'NN' in poss:\n",
    "        words = poss['NN']\n",
    "    else:\n",
    "        print(\"NN and NNP not found\")\n",
    "        return (None, sentence, None)\n",
    "    if len(words) > 0:\n",
    "        word = random.choice(words)\n",
    "        replaced = replaceIC(word, sentence)\n",
    "        return (word, sentence, replaced)\n",
    "    else:\n",
    "        print(\"words are empty\")\n",
    "        return (None, sentence, None)"
   ]
  },
  {
   "cell_type": "code",
   "execution_count": 13,
   "metadata": {},
   "outputs": [
    {
     "name": "stdout",
     "output_type": "stream",
     "text": [
      "Query: Just A Rather Very Intelligent System a.k.a JARVIS is created by Tony Stark natural-language and a sophisticated artificial intelligence user interface computer system, named after Edwin Jarvis, the butler who worked for __________________ Stark.\n",
      "Answer: Howard\n",
      "\n",
      "\n",
      "Query: Though its primary duty is to automate __________________’s Malibu estate, the lifelike program fulfills many other needs for __________________, like being an information source for him, a diagnostic tool, a consultant and a voice of reason in __________________’s life.\n",
      "Answer: Stark\n",
      "\n",
      "\n",
      "Query: It was also responsible to provide security for Tony __________________'s Mansion and __________________ Tower.\n",
      "Answer: Stark\n",
      "\n",
      "\n",
      "Query: After creating the Mark II armor, Stark uploaded JARVIS into all of the Iron Man Armors, as well as allowing him to interact with the other __________________, giving them valuable information during combat.\n",
      "Answer: Avengers\n",
      "\n",
      "\n",
      "Query: __________________ may be the one intellect Stark feels most comfortable opening up to.\n",
      "Answer: JARVIS\n",
      "\n",
      "\n",
      "Query: JARVIS can object to Stark__________________s commands if necessary.\n",
      "Answer: ’\n",
      "\n",
      "\n",
      "Query: __________________ speaks with a refined British accent, and is capable of back talk, sarcasm and condescension.\n",
      "Answer: JARVIS\n",
      "\n",
      "\n",
      "Query: During the Ultron Offensive, __________________ was destroyed by Ultron, although his remaining programming codes unknowingly continued to thwart Ultron's plans of gaining access to nuclear missiles.\n",
      "Answer: JARVIS\n",
      "\n",
      "\n",
      "Query: His remains were found by Stark, who uploaded them into a synthetic body made of vibranium and, in conjunction with Ultron's personality and an __________________ Stone.\n",
      "Answer: Infinity\n",
      "\n",
      "\n",
      "Query: 'JARVIS' duties were then taken over by __________________.\n",
      "Answer: FRIDAY\n",
      "\n",
      "\n"
     ]
    }
   ],
   "source": [
    "# Fill-in-the blank generator\n",
    "# it generates a query for every sentence\n",
    "\n",
    "for sentence in sposs.keys():\n",
    "    poss = sposs[sentence]\n",
    "    (word, osentence, replaced) = removeWord(sentence, poss)\n",
    "    if replaced is None:\n",
    "        print (\"Founded none for \")\n",
    "        print(sentence)\n",
    "    else:\n",
    "        print (\"Query:\", replaced)\n",
    "        print (\"Answer:\", word)\n",
    "        print(\"\\n\")"
   ]
  }
 ],
 "metadata": {
  "kernelspec": {
   "display_name": "Python 3",
   "language": "python",
   "name": "python3"
  },
  "language_info": {
   "codemirror_mode": {
    "name": "ipython",
    "version": 3
   },
   "file_extension": ".py",
   "mimetype": "text/x-python",
   "name": "python",
   "nbconvert_exporter": "python",
   "pygments_lexer": "ipython3",
   "version": "3.7.3"
  }
 },
 "nbformat": 4,
 "nbformat_minor": 2
}
